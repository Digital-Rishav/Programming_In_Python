{
  "nbformat": 4,
  "nbformat_minor": 0,
  "metadata": {
    "colab": {
      "provenance": [],
      "authorship_tag": "ABX9TyM0WKASD7yf0LGstdclU5ui",
      "include_colab_link": true
    },
    "kernelspec": {
      "name": "python3",
      "display_name": "Python 3"
    },
    "language_info": {
      "name": "python"
    }
  },
  "cells": [
    {
      "cell_type": "markdown",
      "metadata": {
        "id": "view-in-github",
        "colab_type": "text"
      },
      "source": [
        "<a href=\"https://colab.research.google.com/github/Digital-Rishav/programming_in_python/blob/main/Day_1_Introduction_to_Python.ipynb\" target=\"_parent\"><img src=\"https://colab.research.google.com/assets/colab-badge.svg\" alt=\"Open In Colab\"/></a>"
      ]
    },
    {
      "cell_type": "markdown",
      "source": [
        "# **Comments** in Python"
      ],
      "metadata": {
        "id": "UhuYbzd1aIbp"
      }
    },
    {
      "cell_type": "code",
      "execution_count": 18,
      "metadata": {
        "colab": {
          "base_uri": "https://localhost:8080/"
        },
        "id": "9b2KNYwBUnbR",
        "outputId": "96b23516-ddac-42e0-8900-3bbb6866226a"
      },
      "outputs": [
        {
          "output_type": "stream",
          "name": "stdout",
          "text": [
            "1\n",
            "# This is not a comment because it's inside quotes.\n"
          ]
        }
      ],
      "source": [
        "# this is the first comment\n",
        "num = 1  # and this is the second comment\n",
        "          # ... and now a third!\n",
        "print(num)\n",
        "text = \"# This is not a comment because it's inside quotes.\"\n",
        "print(text)"
      ]
    },
    {
      "cell_type": "markdown",
      "source": [
        "# Python as **Calculator**"
      ],
      "metadata": {
        "id": "HMOvUKRSZyOD"
      }
    },
    {
      "cell_type": "code",
      "source": [
        "2 + 2"
      ],
      "metadata": {
        "colab": {
          "base_uri": "https://localhost:8080/"
        },
        "id": "sL1VebquVc78",
        "outputId": "e1b17177-7b88-40a9-c3b5-b5e07388f620"
      },
      "execution_count": null,
      "outputs": [
        {
          "output_type": "execute_result",
          "data": {
            "text/plain": [
              "4"
            ]
          },
          "metadata": {},
          "execution_count": 8
        }
      ]
    },
    {
      "cell_type": "code",
      "source": [
        "50 - 5*6"
      ],
      "metadata": {
        "colab": {
          "base_uri": "https://localhost:8080/"
        },
        "id": "EFrf-GleV6E6",
        "outputId": "dc94b9d1-16ff-4d31-a212-54dbf46179f3"
      },
      "execution_count": null,
      "outputs": [
        {
          "output_type": "execute_result",
          "data": {
            "text/plain": [
              "20"
            ]
          },
          "metadata": {},
          "execution_count": 15
        }
      ]
    },
    {
      "cell_type": "code",
      "source": [
        "(50 - 5*6) / 4\n",
        "\n"
      ],
      "metadata": {
        "colab": {
          "base_uri": "https://localhost:8080/"
        },
        "id": "zHmpCevuXDO1",
        "outputId": "29a74ac2-1c04-41ee-df34-4544dc626411"
      },
      "execution_count": null,
      "outputs": [
        {
          "output_type": "execute_result",
          "data": {
            "text/plain": [
              "5.0"
            ]
          },
          "metadata": {},
          "execution_count": 16
        }
      ]
    },
    {
      "cell_type": "markdown",
      "source": [
        "# **Indexing** and **Slicing**"
      ],
      "metadata": {
        "id": "hLFzwuF0c7_w"
      }
    },
    {
      "cell_type": "markdown",
      "source": [
        "#**Lists** in Python"
      ],
      "metadata": {
        "id": "C4Xjn_oyebjm"
      }
    },
    {
      "cell_type": "markdown",
      "source": [
        "# Introduction to **Programming** in **Python**"
      ],
      "metadata": {
        "id": "n_myBqHMhNLG"
      }
    },
    {
      "cell_type": "markdown",
      "source": [
        "Here's a simple Python program that includes multiple basic programming concepts like ***variables, data types, conditionals, loops, and functions*** all in one place. The program will ask for a user's name and age, greet them, and then check if they are eligible to vote. It will also demonstrate a loop and a list to print their name multiple times."
      ],
      "metadata": {
        "id": "n6gVmiXViPWb"
      }
    },
    {
      "cell_type": "code",
      "source": [
        "# Function to greet the user\n",
        "def greet_user(name):\n",
        "    print(\"Hello \" + name + \"! Welcome to the program.\")\n",
        "\n",
        "# Function to check voting eligibility\n",
        "def check_voting_eligibility(age):\n",
        "    if age >= 18:\n",
        "        print(\"You are eligible to vote.\")\n",
        "    else:\n",
        "        print(\"You are not eligible to vote yet.\")\n",
        "\n",
        "# Main program starts here\n",
        "# Getting user input\n",
        "name = input(\"Enter your name: \")  # String input\n",
        "age = int(input(\"Enter your age: \"))  # Integer input\n",
        "\n",
        "# Calling the greet_user function\n",
        "greet_user(name)\n",
        "\n",
        "# Calling the check_voting_eligibility function\n",
        "check_voting_eligibility(age)\n",
        "\n",
        "# List to store a few favorite things\n",
        "favorite_things = [\"Python\", \"Coding\", \"Music\", \"Movies\"]\n",
        "\n",
        "# Loop to print favorite things\n",
        "print(\"\\nHere are a few of your favorite things:\")\n",
        "for thing in favorite_things:\n",
        "    print(\"- \" + thing)\n",
        "\n",
        "# Loop to print user's name 5 times\n",
        "print(\"\\nLet's print your name 5 times!\")\n",
        "for i in range(5):\n",
        "    print(name)\n",
        "\n",
        "# Final message\n",
        "print(\"\\nThank you for using the program, \" + name + \"!\")\n"
      ],
      "metadata": {
        "colab": {
          "base_uri": "https://localhost:8080/"
        },
        "id": "RBZlLgm9hg9Y",
        "outputId": "a1faa425-de35-4024-d05a-be62ca536db5"
      },
      "execution_count": null,
      "outputs": [
        {
          "output_type": "stream",
          "name": "stdout",
          "text": [
            "Enter your name: Rishav\n",
            "Enter your age: 19\n",
            "Hello Rishav! Welcome to the program.\n",
            "You are eligible to vote.\n",
            "\n",
            "Here are a few of your favorite things:\n",
            "- Python\n",
            "- Coding\n",
            "- Music\n",
            "- Movies\n",
            "\n",
            "Let's print your name 5 times!\n",
            "Rishav\n",
            "Rishav\n",
            "Rishav\n",
            "Rishav\n",
            "Rishav\n",
            "\n",
            "Thank you for using the program, Rishav!\n"
          ]
        }
      ]
    },
    {
      "cell_type": "markdown",
      "source": [
        "\n",
        "\n",
        "---\n",
        "\n"
      ],
      "metadata": {
        "id": "lD_kKw3-kViF"
      }
    },
    {
      "cell_type": "markdown",
      "source": [
        "**What This Program Does:**\n",
        "\n",
        "* **Variables:** Stores the user's name and age.\n",
        "*  **Data Types:** Demonstrates strings, integers, and lists.\n",
        "* **Functions:** Two functions (greet_user and check_voting_eligibility) are used for code reusability.\n",
        "* **Conditional Statements:** if-else checks if the user is old enough to vote.\n",
        "*   **Loops:** Two for loops are used, one to print the user's favorite things and another to print their name multiple times.\n",
        "\n",
        "*  **Input:** The program takes input from the user for their name and age.\n",
        "\n",
        "\n",
        "\n",
        "\n",
        "\n",
        "\n",
        "\n",
        "\n",
        "\n",
        "\n"
      ],
      "metadata": {
        "id": "ajyV7jAai2Ax"
      }
    }
  ]
}